{
 "cells": [
  {
   "cell_type": "markdown",
   "metadata": {},
   "source": [
    "# 課題 - Human Resources\n",
    "***"
   ]
  },
  {
   "cell_type": "markdown",
   "metadata": {
    "ExecuteTime": {
     "end_time": "2018-04-24T10:47:07.378476Z",
     "start_time": "2018-04-24T10:47:07.375540Z"
    }
   },
   "source": [
    "<img src=\"https://1.bp.blogspot.com/-LHowbq0ZoNY/VcMlVYhOVgI/AAAAAAAAwZ4/mgMtHMx5fcM/s800/fukidashi_taisyoku_woman.png\" alt=\"退職を考えている人のイラスト\" width=\"30%\" height=\"30%\"/>"
   ]
  },
  {
   "cell_type": "code",
   "execution_count": 1,
   "metadata": {
    "ExecuteTime": {
     "end_time": "2018-04-26T16:35:13.829650Z",
     "start_time": "2018-04-26T16:35:13.139465Z"
    }
   },
   "outputs": [
    {
     "name": "stdout",
     "output_type": "stream",
     "text": [
      "Python Version: 3.6.5 |Anaconda custom (64-bit)| (default, Mar 29 2018, 18:21:58) \n",
      "[GCC 7.2.0]\n",
      "pandas Version: 0.22.0\n",
      "matplotlib Version: 2.2.2\n",
      "Numpy Version: 1.14.2\n",
      "sklearn Version: 0.19.1\n",
      "ipywidgets Version: 7.2.1\n"
     ]
    }
   ],
   "source": [
    "# import basic apis\n",
    "import sys\n",
    "\n",
    "import scipy as sp\n",
    "import numpy as np\n",
    "import pandas as pd\n",
    "import matplotlib\n",
    "import sklearn\n",
    "\n",
    "from sklearn.model_selection import train_test_split,GridSearchCV,RandomizedSearchCV\n",
    "from sklearn.pipeline import Pipeline\n",
    "from sklearn.preprocessing import StandardScaler\n",
    "# pickle\n",
    "from sklearn.externals import joblib\n",
    "# 学習モデル\n",
    "from sklearn.ensemble import RandomForestClassifier, GradientBoostingClassifier\n",
    "import xgboost as xgb\n",
    "import lightgbm as lgb\n",
    "# 評価手法\n",
    "from sklearn.metrics import accuracy_score, precision_score, recall_score, f1_score, roc_auc_score\n",
    "#  画面描画\n",
    "import ipywidgets\n",
    "from ipywidgets import interact\n",
    "\n",
    "print('Python Version: {}'.format(sys.version))\n",
    "print('pandas Version: {}'.format(pd.__version__))\n",
    "print('matplotlib Version: {}'.format(matplotlib.__version__))\n",
    "print('Numpy Version: {}'.format(np.__version__))\n",
    "print('sklearn Version: {}'.format(sklearn.__version__))\n",
    "print('ipywidgets Version: {}'.format(ipywidgets.__version__))"
   ]
  },
  {
   "cell_type": "markdown",
   "metadata": {},
   "source": [
    "## OSEMN Pipeline\n",
    "****\n",
    "\n",
    "以下のOSEMN(awesomeと発音)の手法に則って行う\n",
    "\n",
    "1. **O**btaining the data is the first approach in solving the problem.\n",
    "\n",
    "2. **S**crubbing or cleaning the data is the next step. This includes data imputation of missing or invalid data and fixing column names.\n",
    "\n",
    "3. **E**xploring the data will follow right after and allow further insight of what our dataset contains. Looking for any outliers or weird data. Understanding the relationship each explanatory variable has with the response variable resides here and we can do this with a correlation matrix. \n",
    "\n",
    "4. **M**odeling the data will give us our predictive power on whether an employee will leave. \n",
    "\n",
    "5. I**N**terpreting the data is last. With all the results and analysis of the data, what conclusion is made? What factors contributed most to employee turnover? What relationship of variables were found? "
   ]
  },
  {
   "cell_type": "markdown",
   "metadata": {},
   "source": [
    "# O: データを取り込む\n",
    "***"
   ]
  },
  {
   "cell_type": "markdown",
   "metadata": {},
   "source": [
    "<img src=\"https://3.bp.blogspot.com/-YtrWSqttYsQ/WM9XglY6dtI/AAAAAAABCrE/FKxvLU_Dllkg7PN1RV8xSys-7M86MS1vwCLcB/s800/bg_digital_pattern_green.jpg\" alt=\"データのイラスト\" width=\"30%\" height=\"30%\">"
   ]
  },
  {
   "cell_type": "markdown",
   "metadata": {},
   "source": [
    "あらかじめ、取り決めておいたデータ仕様(./data/データ仕様書.xlsx)と今回提出いただいたCSVファイルのデータ形式に相違がないことを確認した。  \n",
    "ここでは、ファイルの読み込みを行う。"
   ]
  },
  {
   "cell_type": "code",
   "execution_count": 115,
   "metadata": {
    "ExecuteTime": {
     "end_time": "2018-04-26T22:37:15.915148Z",
     "start_time": "2018-04-26T22:37:15.877897Z"
    }
   },
   "outputs": [],
   "source": [
    "# import Sample Data to learn models\n",
    "\n",
    "# Read the analytics csv file and store our dataset into a dataframe called \"df\"\n",
    "#df = pd.DataFrame.from_csv('../input/HR_comma_sep.csv', index_col=None)\n",
    "index_column = 'index'\n",
    "source_csv = './data/final_hr_analysis_train.csv'\n",
    "df = pd.read_csv(source_csv, index_col=index_column)\n",
    "\n",
    "source_csv_proba = './data/final_hr_analysis_test.csv'\n",
    "df_proba = pd.read_csv(source_csv_test, index_col=index_column)"
   ]
  },
  {
   "cell_type": "markdown",
   "metadata": {},
   "source": [
    "+ 仕様どおり、'index'列が一意であることが確認できた。正常なデータであると判断し、以降の処理を継続する。\n",
    "+ 'index'列をindexとして採用し、データフレームへの読み込みを実施。"
   ]
  },
  {
   "cell_type": "markdown",
   "metadata": {},
   "source": [
    "# S: データクレンジング \n",
    "***"
   ]
  },
  {
   "cell_type": "markdown",
   "metadata": {},
   "source": [
    "<img src=\"https://4.bp.blogspot.com/-nwgj7Uh-ooI/WGnPaIeQD1I/AAAAAAABA6M/Y8TUclXA93Q5WTT81nd4DdJep5fV1H8ywCLcB/s800/room_living_clean.png\" alt=\"ピカピカのリビングのイラスト\" width=\"30%\" height=\"30%\">"
   ]
  },
  {
   "cell_type": "markdown",
   "metadata": {},
   "source": [
    "データ分析を行うにあたって、事前にデータのクレンジング処理(欠損値への対応、カテゴリカル変数の対応など)をおこなう。  "
   ]
  },
  {
   "cell_type": "code",
   "execution_count": 116,
   "metadata": {
    "ExecuteTime": {
     "end_time": "2018-04-26T22:37:21.197682Z",
     "start_time": "2018-04-26T22:37:21.185680Z"
    }
   },
   "outputs": [
    {
     "data": {
      "text/plain": [
       "(10499, 10)"
      ]
     },
     "execution_count": 116,
     "metadata": {},
     "output_type": "execute_result"
    }
   ],
   "source": [
    "df.shape"
   ]
  },
  {
   "cell_type": "markdown",
   "metadata": {},
   "source": [
    "## 可読性を高める"
   ]
  },
  {
   "cell_type": "code",
   "execution_count": 118,
   "metadata": {
    "ExecuteTime": {
     "end_time": "2018-04-26T22:37:57.529431Z",
     "start_time": "2018-04-26T22:37:57.514092Z"
    }
   },
   "outputs": [],
   "source": [
    "# column名称のりネーム\n",
    "columns = {\n",
    "    'satisfaction_level': 'satisfaction',\n",
    "    'last_evaluation': 'evaluation',\n",
    "    'number_project': 'projectCount',\n",
    "    'average_montly_hours': 'averageMonthlyHours',\n",
    "    'time_spend_company': 'yearsAtCompany',\n",
    "    'Work_accident': 'workAccident',\n",
    "    'promotion_last_5years': 'promotion',\n",
    "    'sales': 'department',\n",
    "    'left': 'turnover'\n",
    "}\n",
    "\n",
    "df = df.rename(columns=columns)\n",
    "df_proba = df_proba.rename(columns=columns)"
   ]
  },
  {
   "cell_type": "markdown",
   "metadata": {},
   "source": [
    "## 欠損値への対応"
   ]
  },
  {
   "cell_type": "code",
   "execution_count": 119,
   "metadata": {
    "ExecuteTime": {
     "end_time": "2018-04-26T22:38:01.275423Z",
     "start_time": "2018-04-26T22:38:01.261163Z"
    }
   },
   "outputs": [
    {
     "data": {
      "text/plain": [
       "turnover               False\n",
       "satisfaction           False\n",
       "evaluation             False\n",
       "projectCount           False\n",
       "averageMonthlyHours    False\n",
       "yearsAtCompany         False\n",
       "workAccident           False\n",
       "promotion              False\n",
       "department             False\n",
       "salary                 False\n",
       "dtype: bool"
      ]
     },
     "execution_count": 119,
     "metadata": {},
     "output_type": "execute_result"
    }
   ],
   "source": [
    "# 欠損値の有無確認\n",
    "df.isnull().any()"
   ]
  },
  {
   "cell_type": "code",
   "execution_count": 120,
   "metadata": {
    "ExecuteTime": {
     "end_time": "2018-04-26T22:38:08.134472Z",
     "start_time": "2018-04-26T22:38:08.113570Z"
    }
   },
   "outputs": [
    {
     "data": {
      "text/html": [
       "<div>\n",
       "<style scoped>\n",
       "    .dataframe tbody tr th:only-of-type {\n",
       "        vertical-align: middle;\n",
       "    }\n",
       "\n",
       "    .dataframe tbody tr th {\n",
       "        vertical-align: top;\n",
       "    }\n",
       "\n",
       "    .dataframe thead th {\n",
       "        text-align: right;\n",
       "    }\n",
       "</style>\n",
       "<table border=\"1\" class=\"dataframe\">\n",
       "  <thead>\n",
       "    <tr style=\"text-align: right;\">\n",
       "      <th></th>\n",
       "      <th>turnover</th>\n",
       "      <th>satisfaction</th>\n",
       "      <th>evaluation</th>\n",
       "      <th>projectCount</th>\n",
       "      <th>averageMonthlyHours</th>\n",
       "      <th>yearsAtCompany</th>\n",
       "      <th>workAccident</th>\n",
       "      <th>promotion</th>\n",
       "      <th>department</th>\n",
       "      <th>salary</th>\n",
       "    </tr>\n",
       "    <tr>\n",
       "      <th>index</th>\n",
       "      <th></th>\n",
       "      <th></th>\n",
       "      <th></th>\n",
       "      <th></th>\n",
       "      <th></th>\n",
       "      <th></th>\n",
       "      <th></th>\n",
       "      <th></th>\n",
       "      <th></th>\n",
       "      <th></th>\n",
       "    </tr>\n",
       "  </thead>\n",
       "  <tbody>\n",
       "    <tr>\n",
       "      <th>10438</th>\n",
       "      <td>0</td>\n",
       "      <td>0.53</td>\n",
       "      <td>0.52</td>\n",
       "      <td>2</td>\n",
       "      <td>135</td>\n",
       "      <td>4</td>\n",
       "      <td>0</td>\n",
       "      <td>0</td>\n",
       "      <td>technical</td>\n",
       "      <td>medium</td>\n",
       "    </tr>\n",
       "    <tr>\n",
       "      <th>9236</th>\n",
       "      <td>0</td>\n",
       "      <td>0.77</td>\n",
       "      <td>0.53</td>\n",
       "      <td>5</td>\n",
       "      <td>256</td>\n",
       "      <td>3</td>\n",
       "      <td>0</td>\n",
       "      <td>0</td>\n",
       "      <td>accounting</td>\n",
       "      <td>medium</td>\n",
       "    </tr>\n",
       "    <tr>\n",
       "      <th>818</th>\n",
       "      <td>1</td>\n",
       "      <td>0.89</td>\n",
       "      <td>0.79</td>\n",
       "      <td>3</td>\n",
       "      <td>149</td>\n",
       "      <td>2</td>\n",
       "      <td>0</td>\n",
       "      <td>0</td>\n",
       "      <td>support</td>\n",
       "      <td>medium</td>\n",
       "    </tr>\n",
       "    <tr>\n",
       "      <th>11503</th>\n",
       "      <td>0</td>\n",
       "      <td>0.64</td>\n",
       "      <td>0.63</td>\n",
       "      <td>3</td>\n",
       "      <td>156</td>\n",
       "      <td>6</td>\n",
       "      <td>1</td>\n",
       "      <td>0</td>\n",
       "      <td>support</td>\n",
       "      <td>low</td>\n",
       "    </tr>\n",
       "    <tr>\n",
       "      <th>11721</th>\n",
       "      <td>0</td>\n",
       "      <td>0.98</td>\n",
       "      <td>0.74</td>\n",
       "      <td>4</td>\n",
       "      <td>151</td>\n",
       "      <td>3</td>\n",
       "      <td>0</td>\n",
       "      <td>0</td>\n",
       "      <td>sales</td>\n",
       "      <td>medium</td>\n",
       "    </tr>\n",
       "  </tbody>\n",
       "</table>\n",
       "</div>"
      ],
      "text/plain": [
       "       turnover  satisfaction  evaluation  projectCount  averageMonthlyHours  \\\n",
       "index                                                                          \n",
       "10438         0          0.53        0.52             2                  135   \n",
       "9236          0          0.77        0.53             5                  256   \n",
       "818           1          0.89        0.79             3                  149   \n",
       "11503         0          0.64        0.63             3                  156   \n",
       "11721         0          0.98        0.74             4                  151   \n",
       "\n",
       "       yearsAtCompany  workAccident  promotion  department  salary  \n",
       "index                                                               \n",
       "10438               4             0          0   technical  medium  \n",
       "9236                3             0          0  accounting  medium  \n",
       "818                 2             0          0     support  medium  \n",
       "11503               6             1          0     support     low  \n",
       "11721               3             0          0       sales  medium  "
      ]
     },
     "execution_count": 120,
     "metadata": {},
     "output_type": "execute_result"
    }
   ],
   "source": [
    "# データの中身を確認\n",
    "df.head()"
   ]
  },
  {
   "cell_type": "markdown",
   "metadata": {},
   "source": [
    "## カテゴリカル変数への対応"
   ]
  },
  {
   "cell_type": "code",
   "execution_count": 121,
   "metadata": {
    "ExecuteTime": {
     "end_time": "2018-04-26T22:38:59.603260Z",
     "start_time": "2018-04-26T22:38:59.592465Z"
    }
   },
   "outputs": [
    {
     "name": "stdout",
     "output_type": "stream",
     "text": [
      "turnover                    int64\n",
      "satisfaction              float64\n",
      "evaluation                float64\n",
      "projectCount                int64\n",
      "averageMonthlyHours         int64\n",
      "yearsAtCompany              int64\n",
      "workAccident                int64\n",
      "promotion                   int64\n",
      "department_IT               uint8\n",
      "department_RandD            uint8\n",
      "department_accounting       uint8\n",
      "department_hr               uint8\n",
      "department_management       uint8\n",
      "department_marketing        uint8\n",
      "department_product_mng      uint8\n",
      "department_sales            uint8\n",
      "department_support          uint8\n",
      "department_technical        uint8\n",
      "salary_high                 uint8\n",
      "salary_low                  uint8\n",
      "salary_medium               uint8\n",
      "dtype: object\n"
     ]
    }
   ],
   "source": [
    "# カテゴリカル変数を、one hot encoding\n",
    "ohe_columns = ['department', 'salary']\n",
    "X_dummies = pd.get_dummies(df, dummy_na=False, columns=ohe_columns)\n",
    "print(X_dummies.dtypes)\n",
    "# カテゴリカル変数を、one hot encoding(test)\n",
    "X_dummies_proba = pd.get_dummies(df_proba, dummy_na=False, columns=ohe_columns)"
   ]
  },
  {
   "cell_type": "markdown",
   "metadata": {},
   "source": [
    "+ 欠損がないデータなので、欠損値の対応は不要であった。  \n",
    "+ カラム名は、よりわかりやすい名称へと変更した。 \n",
    "+ カテゴリカル変数の['department', 'salary']にたいしてOneHotEncodingを実施。"
   ]
  },
  {
   "cell_type": "markdown",
   "metadata": {},
   "source": [
    "# E: データの調査\n",
    "*** "
   ]
  },
  {
   "cell_type": "markdown",
   "metadata": {},
   "source": [
    "<img src=\"https://1.bp.blogspot.com/-0mU8U4WPRAs/WerKkBA4WQI/AAAAAAABHpI/_oa_Oxu7ThYhD0-14-Pe4etwp6jPX9jTACLcBGAs/s800/computer_hakui_doctor_man.png\" alt=\"データ分析してる人のイラスト\" width=\"30%\" height=\"30%\">"
   ]
  },
  {
   "cell_type": "markdown",
   "metadata": {},
   "source": [
    "データの中身を探索し、特徴量などを決定。また、データに偏りがないかも調べておく必要がある。"
   ]
  },
  {
   "cell_type": "markdown",
   "metadata": {},
   "source": [
    "## データ内の正負の割合・偏りを確認"
   ]
  },
  {
   "cell_type": "code",
   "execution_count": 122,
   "metadata": {
    "ExecuteTime": {
     "end_time": "2018-04-26T22:39:12.459233Z",
     "start_time": "2018-04-26T22:39:12.444658Z"
    }
   },
   "outputs": [
    {
     "name": "stdout",
     "output_type": "stream",
     "text": [
      "0    0.758739\n",
      "1    0.241261\n",
      "Name: turnover, dtype: float64\n"
     ]
    }
   ],
   "source": [
    "# 導出すべき値に偏りがありすぎると、モデルのパフォーマンスに影響する\n",
    "# その場合、何らかの対策(SMOTE、ダウンサンプリングなど)を行う必要あり\n",
    "turnover_rate = df.turnover.value_counts() / len(df)\n",
    "print(turnover_rate)"
   ]
  },
  {
   "cell_type": "code",
   "execution_count": 123,
   "metadata": {
    "ExecuteTime": {
     "end_time": "2018-04-26T22:39:15.005653Z",
     "start_time": "2018-04-26T22:39:14.965837Z"
    }
   },
   "outputs": [
    {
     "data": {
      "text/html": [
       "<div>\n",
       "<style scoped>\n",
       "    .dataframe tbody tr th:only-of-type {\n",
       "        vertical-align: middle;\n",
       "    }\n",
       "\n",
       "    .dataframe tbody tr th {\n",
       "        vertical-align: top;\n",
       "    }\n",
       "\n",
       "    .dataframe thead th {\n",
       "        text-align: right;\n",
       "    }\n",
       "</style>\n",
       "<table border=\"1\" class=\"dataframe\">\n",
       "  <thead>\n",
       "    <tr style=\"text-align: right;\">\n",
       "      <th></th>\n",
       "      <th>turnover</th>\n",
       "      <th>satisfaction</th>\n",
       "      <th>evaluation</th>\n",
       "      <th>projectCount</th>\n",
       "      <th>averageMonthlyHours</th>\n",
       "      <th>yearsAtCompany</th>\n",
       "      <th>workAccident</th>\n",
       "      <th>promotion</th>\n",
       "    </tr>\n",
       "  </thead>\n",
       "  <tbody>\n",
       "    <tr>\n",
       "      <th>count</th>\n",
       "      <td>10499.000000</td>\n",
       "      <td>10499.000000</td>\n",
       "      <td>10499.000000</td>\n",
       "      <td>10499.000000</td>\n",
       "      <td>10499.000000</td>\n",
       "      <td>10499.000000</td>\n",
       "      <td>10499.000000</td>\n",
       "      <td>10499.000000</td>\n",
       "    </tr>\n",
       "    <tr>\n",
       "      <th>mean</th>\n",
       "      <td>0.241261</td>\n",
       "      <td>0.612631</td>\n",
       "      <td>0.717606</td>\n",
       "      <td>3.802553</td>\n",
       "      <td>201.121726</td>\n",
       "      <td>3.496428</td>\n",
       "      <td>0.145538</td>\n",
       "      <td>0.020764</td>\n",
       "    </tr>\n",
       "    <tr>\n",
       "      <th>std</th>\n",
       "      <td>0.427869</td>\n",
       "      <td>0.248155</td>\n",
       "      <td>0.170685</td>\n",
       "      <td>1.238923</td>\n",
       "      <td>49.834992</td>\n",
       "      <td>1.447783</td>\n",
       "      <td>0.352659</td>\n",
       "      <td>0.142600</td>\n",
       "    </tr>\n",
       "    <tr>\n",
       "      <th>min</th>\n",
       "      <td>0.000000</td>\n",
       "      <td>0.090000</td>\n",
       "      <td>0.360000</td>\n",
       "      <td>2.000000</td>\n",
       "      <td>96.000000</td>\n",
       "      <td>2.000000</td>\n",
       "      <td>0.000000</td>\n",
       "      <td>0.000000</td>\n",
       "    </tr>\n",
       "    <tr>\n",
       "      <th>25%</th>\n",
       "      <td>0.000000</td>\n",
       "      <td>0.440000</td>\n",
       "      <td>0.560000</td>\n",
       "      <td>3.000000</td>\n",
       "      <td>156.000000</td>\n",
       "      <td>3.000000</td>\n",
       "      <td>0.000000</td>\n",
       "      <td>0.000000</td>\n",
       "    </tr>\n",
       "    <tr>\n",
       "      <th>50%</th>\n",
       "      <td>0.000000</td>\n",
       "      <td>0.640000</td>\n",
       "      <td>0.720000</td>\n",
       "      <td>4.000000</td>\n",
       "      <td>200.000000</td>\n",
       "      <td>3.000000</td>\n",
       "      <td>0.000000</td>\n",
       "      <td>0.000000</td>\n",
       "    </tr>\n",
       "    <tr>\n",
       "      <th>75%</th>\n",
       "      <td>0.000000</td>\n",
       "      <td>0.820000</td>\n",
       "      <td>0.870000</td>\n",
       "      <td>5.000000</td>\n",
       "      <td>245.000000</td>\n",
       "      <td>4.000000</td>\n",
       "      <td>0.000000</td>\n",
       "      <td>0.000000</td>\n",
       "    </tr>\n",
       "    <tr>\n",
       "      <th>max</th>\n",
       "      <td>1.000000</td>\n",
       "      <td>1.000000</td>\n",
       "      <td>1.000000</td>\n",
       "      <td>7.000000</td>\n",
       "      <td>310.000000</td>\n",
       "      <td>10.000000</td>\n",
       "      <td>1.000000</td>\n",
       "      <td>1.000000</td>\n",
       "    </tr>\n",
       "  </tbody>\n",
       "</table>\n",
       "</div>"
      ],
      "text/plain": [
       "           turnover  satisfaction    evaluation  projectCount  \\\n",
       "count  10499.000000  10499.000000  10499.000000  10499.000000   \n",
       "mean       0.241261      0.612631      0.717606      3.802553   \n",
       "std        0.427869      0.248155      0.170685      1.238923   \n",
       "min        0.000000      0.090000      0.360000      2.000000   \n",
       "25%        0.000000      0.440000      0.560000      3.000000   \n",
       "50%        0.000000      0.640000      0.720000      4.000000   \n",
       "75%        0.000000      0.820000      0.870000      5.000000   \n",
       "max        1.000000      1.000000      1.000000      7.000000   \n",
       "\n",
       "       averageMonthlyHours  yearsAtCompany  workAccident     promotion  \n",
       "count         10499.000000    10499.000000  10499.000000  10499.000000  \n",
       "mean            201.121726        3.496428      0.145538      0.020764  \n",
       "std              49.834992        1.447783      0.352659      0.142600  \n",
       "min              96.000000        2.000000      0.000000      0.000000  \n",
       "25%             156.000000        3.000000      0.000000      0.000000  \n",
       "50%             200.000000        3.000000      0.000000      0.000000  \n",
       "75%             245.000000        4.000000      0.000000      0.000000  \n",
       "max             310.000000       10.000000      1.000000      1.000000  "
      ]
     },
     "execution_count": 123,
     "metadata": {},
     "output_type": "execute_result"
    }
   ],
   "source": [
    "# Display the statistical overview of the employees\n",
    "df.describe()"
   ]
  },
  {
   "cell_type": "markdown",
   "metadata": {},
   "source": [
    "## 正負の特徴量の差異を比較"
   ]
  },
  {
   "cell_type": "code",
   "execution_count": 124,
   "metadata": {
    "ExecuteTime": {
     "end_time": "2018-04-26T22:39:19.412668Z",
     "start_time": "2018-04-26T22:39:19.392951Z"
    }
   },
   "outputs": [
    {
     "data": {
      "text/html": [
       "<div>\n",
       "<style scoped>\n",
       "    .dataframe tbody tr th:only-of-type {\n",
       "        vertical-align: middle;\n",
       "    }\n",
       "\n",
       "    .dataframe tbody tr th {\n",
       "        vertical-align: top;\n",
       "    }\n",
       "\n",
       "    .dataframe thead th {\n",
       "        text-align: right;\n",
       "    }\n",
       "</style>\n",
       "<table border=\"1\" class=\"dataframe\">\n",
       "  <thead>\n",
       "    <tr style=\"text-align: right;\">\n",
       "      <th></th>\n",
       "      <th>satisfaction</th>\n",
       "      <th>evaluation</th>\n",
       "      <th>projectCount</th>\n",
       "      <th>averageMonthlyHours</th>\n",
       "      <th>yearsAtCompany</th>\n",
       "      <th>workAccident</th>\n",
       "      <th>promotion</th>\n",
       "    </tr>\n",
       "    <tr>\n",
       "      <th>turnover</th>\n",
       "      <th></th>\n",
       "      <th></th>\n",
       "      <th></th>\n",
       "      <th></th>\n",
       "      <th></th>\n",
       "      <th></th>\n",
       "      <th></th>\n",
       "    </tr>\n",
       "  </thead>\n",
       "  <tbody>\n",
       "    <tr>\n",
       "      <th>0</th>\n",
       "      <td>0.667201</td>\n",
       "      <td>0.716962</td>\n",
       "      <td>3.783204</td>\n",
       "      <td>198.930203</td>\n",
       "      <td>3.376601</td>\n",
       "      <td>0.175747</td>\n",
       "      <td>0.025734</td>\n",
       "    </tr>\n",
       "    <tr>\n",
       "      <th>1</th>\n",
       "      <td>0.441015</td>\n",
       "      <td>0.719633</td>\n",
       "      <td>3.863403</td>\n",
       "      <td>208.013818</td>\n",
       "      <td>3.873273</td>\n",
       "      <td>0.050533</td>\n",
       "      <td>0.005132</td>\n",
       "    </tr>\n",
       "  </tbody>\n",
       "</table>\n",
       "</div>"
      ],
      "text/plain": [
       "          satisfaction  evaluation  projectCount  averageMonthlyHours  \\\n",
       "turnover                                                                \n",
       "0             0.667201    0.716962      3.783204           198.930203   \n",
       "1             0.441015    0.719633      3.863403           208.013818   \n",
       "\n",
       "          yearsAtCompany  workAccident  promotion  \n",
       "turnover                                           \n",
       "0               3.376601      0.175747   0.025734  \n",
       "1               3.873273      0.050533   0.005132  "
      ]
     },
     "execution_count": 124,
     "metadata": {},
     "output_type": "execute_result"
    }
   ],
   "source": [
    "# Overview of summary (Turnover V.S. Non-turnover)\n",
    "target_name = 'turnover'\n",
    "turnover_Summary = df.groupby(target_name)\n",
    "turnover_Summary.mean()"
   ]
  },
  {
   "cell_type": "markdown",
   "metadata": {},
   "source": [
    "+ 'turnover'値がおおよそ、0:1 = 3:1 であった。均等ではないが、そこまで大きな問題でないと判断し、対応は行わない。"
   ]
  },
  {
   "cell_type": "markdown",
   "metadata": {},
   "source": [
    "# M: モデル構築\n",
    "***"
   ]
  },
  {
   "cell_type": "markdown",
   "metadata": {},
   "source": [
    "<img src=\"https://2.bp.blogspot.com/-Eaqkz47FqEQ/WEztN1keMTI/AAAAAAABAUk/Kch-IzHmkQsMKRRauuRk3L95QhgewY7KwCLcB/s800/ai_study_kikaigakusyu.png\" alt=\"機械学習のイラスト\" width=\"30%\" height=\"30%\">"
   ]
  },
  {
   "cell_type": "markdown",
   "metadata": {},
   "source": [
    "テスト・訓練データへ分割し、学習を実施  \n",
    "複数モデルを構築・比較することで、よりよい学習モデルの採用が可能とする。"
   ]
  },
  {
   "cell_type": "markdown",
   "metadata": {},
   "source": [
    "## テスト・訓練データの分割"
   ]
  },
  {
   "cell_type": "code",
   "execution_count": 125,
   "metadata": {
    "ExecuteTime": {
     "end_time": "2018-04-26T22:40:14.654300Z",
     "start_time": "2018-04-26T22:40:14.648333Z"
    }
   },
   "outputs": [],
   "source": [
    "# X,yを定義\n",
    "X = X_dummies.drop(target_name, axis=1)\n",
    "\n",
    "y = df[target_name]\n",
    "\n",
    "# X,yを定義(testの方)\n",
    "X_proba = X_dummies_proba.drop(target_name, axis=1)\n",
    "\n",
    "y_proba = df_test[target_name]"
   ]
  },
  {
   "cell_type": "code",
   "execution_count": 126,
   "metadata": {
    "ExecuteTime": {
     "end_time": "2018-04-26T22:40:19.662068Z",
     "start_time": "2018-04-26T22:40:19.633777Z"
    }
   },
   "outputs": [
    {
     "data": {
      "text/html": [
       "<div>\n",
       "<style scoped>\n",
       "    .dataframe tbody tr th:only-of-type {\n",
       "        vertical-align: middle;\n",
       "    }\n",
       "\n",
       "    .dataframe tbody tr th {\n",
       "        vertical-align: top;\n",
       "    }\n",
       "\n",
       "    .dataframe thead th {\n",
       "        text-align: right;\n",
       "    }\n",
       "</style>\n",
       "<table border=\"1\" class=\"dataframe\">\n",
       "  <thead>\n",
       "    <tr style=\"text-align: right;\">\n",
       "      <th></th>\n",
       "      <th>satisfaction</th>\n",
       "      <th>evaluation</th>\n",
       "      <th>projectCount</th>\n",
       "      <th>averageMonthlyHours</th>\n",
       "      <th>yearsAtCompany</th>\n",
       "      <th>workAccident</th>\n",
       "      <th>promotion</th>\n",
       "      <th>department_IT</th>\n",
       "      <th>department_RandD</th>\n",
       "      <th>department_accounting</th>\n",
       "      <th>department_hr</th>\n",
       "      <th>department_management</th>\n",
       "      <th>department_marketing</th>\n",
       "      <th>department_product_mng</th>\n",
       "      <th>department_sales</th>\n",
       "      <th>department_support</th>\n",
       "      <th>department_technical</th>\n",
       "      <th>salary_high</th>\n",
       "      <th>salary_low</th>\n",
       "      <th>salary_medium</th>\n",
       "    </tr>\n",
       "    <tr>\n",
       "      <th>index</th>\n",
       "      <th></th>\n",
       "      <th></th>\n",
       "      <th></th>\n",
       "      <th></th>\n",
       "      <th></th>\n",
       "      <th></th>\n",
       "      <th></th>\n",
       "      <th></th>\n",
       "      <th></th>\n",
       "      <th></th>\n",
       "      <th></th>\n",
       "      <th></th>\n",
       "      <th></th>\n",
       "      <th></th>\n",
       "      <th></th>\n",
       "      <th></th>\n",
       "      <th></th>\n",
       "      <th></th>\n",
       "      <th></th>\n",
       "      <th></th>\n",
       "    </tr>\n",
       "  </thead>\n",
       "  <tbody>\n",
       "    <tr>\n",
       "      <th>14204</th>\n",
       "      <td>0.64</td>\n",
       "      <td>0.50</td>\n",
       "      <td>4</td>\n",
       "      <td>253</td>\n",
       "      <td>10</td>\n",
       "      <td>0</td>\n",
       "      <td>1</td>\n",
       "      <td>0</td>\n",
       "      <td>0</td>\n",
       "      <td>0</td>\n",
       "      <td>0</td>\n",
       "      <td>1</td>\n",
       "      <td>0</td>\n",
       "      <td>0</td>\n",
       "      <td>0</td>\n",
       "      <td>0</td>\n",
       "      <td>0</td>\n",
       "      <td>1</td>\n",
       "      <td>0</td>\n",
       "      <td>0</td>\n",
       "    </tr>\n",
       "    <tr>\n",
       "      <th>4086</th>\n",
       "      <td>0.16</td>\n",
       "      <td>0.84</td>\n",
       "      <td>3</td>\n",
       "      <td>238</td>\n",
       "      <td>6</td>\n",
       "      <td>0</td>\n",
       "      <td>0</td>\n",
       "      <td>0</td>\n",
       "      <td>0</td>\n",
       "      <td>0</td>\n",
       "      <td>0</td>\n",
       "      <td>0</td>\n",
       "      <td>0</td>\n",
       "      <td>0</td>\n",
       "      <td>0</td>\n",
       "      <td>0</td>\n",
       "      <td>1</td>\n",
       "      <td>0</td>\n",
       "      <td>0</td>\n",
       "      <td>1</td>\n",
       "    </tr>\n",
       "    <tr>\n",
       "      <th>9971</th>\n",
       "      <td>0.49</td>\n",
       "      <td>0.74</td>\n",
       "      <td>2</td>\n",
       "      <td>154</td>\n",
       "      <td>3</td>\n",
       "      <td>0</td>\n",
       "      <td>0</td>\n",
       "      <td>0</td>\n",
       "      <td>0</td>\n",
       "      <td>0</td>\n",
       "      <td>0</td>\n",
       "      <td>0</td>\n",
       "      <td>0</td>\n",
       "      <td>0</td>\n",
       "      <td>0</td>\n",
       "      <td>1</td>\n",
       "      <td>0</td>\n",
       "      <td>0</td>\n",
       "      <td>0</td>\n",
       "      <td>1</td>\n",
       "    </tr>\n",
       "    <tr>\n",
       "      <th>14602</th>\n",
       "      <td>0.45</td>\n",
       "      <td>0.55</td>\n",
       "      <td>2</td>\n",
       "      <td>148</td>\n",
       "      <td>3</td>\n",
       "      <td>0</td>\n",
       "      <td>0</td>\n",
       "      <td>0</td>\n",
       "      <td>0</td>\n",
       "      <td>0</td>\n",
       "      <td>0</td>\n",
       "      <td>0</td>\n",
       "      <td>0</td>\n",
       "      <td>0</td>\n",
       "      <td>1</td>\n",
       "      <td>0</td>\n",
       "      <td>0</td>\n",
       "      <td>0</td>\n",
       "      <td>1</td>\n",
       "      <td>0</td>\n",
       "    </tr>\n",
       "    <tr>\n",
       "      <th>5374</th>\n",
       "      <td>0.58</td>\n",
       "      <td>0.62</td>\n",
       "      <td>5</td>\n",
       "      <td>184</td>\n",
       "      <td>3</td>\n",
       "      <td>0</td>\n",
       "      <td>0</td>\n",
       "      <td>0</td>\n",
       "      <td>0</td>\n",
       "      <td>0</td>\n",
       "      <td>1</td>\n",
       "      <td>0</td>\n",
       "      <td>0</td>\n",
       "      <td>0</td>\n",
       "      <td>0</td>\n",
       "      <td>0</td>\n",
       "      <td>0</td>\n",
       "      <td>0</td>\n",
       "      <td>1</td>\n",
       "      <td>0</td>\n",
       "    </tr>\n",
       "  </tbody>\n",
       "</table>\n",
       "</div>"
      ],
      "text/plain": [
       "       satisfaction  evaluation  projectCount  averageMonthlyHours  \\\n",
       "index                                                                \n",
       "14204          0.64        0.50             4                  253   \n",
       "4086           0.16        0.84             3                  238   \n",
       "9971           0.49        0.74             2                  154   \n",
       "14602          0.45        0.55             2                  148   \n",
       "5374           0.58        0.62             5                  184   \n",
       "\n",
       "       yearsAtCompany  workAccident  promotion  department_IT  \\\n",
       "index                                                           \n",
       "14204              10             0          1              0   \n",
       "4086                6             0          0              0   \n",
       "9971                3             0          0              0   \n",
       "14602               3             0          0              0   \n",
       "5374                3             0          0              0   \n",
       "\n",
       "       department_RandD  department_accounting  department_hr  \\\n",
       "index                                                           \n",
       "14204                 0                      0              0   \n",
       "4086                  0                      0              0   \n",
       "9971                  0                      0              0   \n",
       "14602                 0                      0              0   \n",
       "5374                  0                      0              1   \n",
       "\n",
       "       department_management  department_marketing  department_product_mng  \\\n",
       "index                                                                        \n",
       "14204                      1                     0                       0   \n",
       "4086                       0                     0                       0   \n",
       "9971                       0                     0                       0   \n",
       "14602                      0                     0                       0   \n",
       "5374                       0                     0                       0   \n",
       "\n",
       "       department_sales  department_support  department_technical  \\\n",
       "index                                                               \n",
       "14204                 0                   0                     0   \n",
       "4086                  0                   0                     1   \n",
       "9971                  0                   1                     0   \n",
       "14602                 1                   0                     0   \n",
       "5374                  0                   0                     0   \n",
       "\n",
       "       salary_high  salary_low  salary_medium  \n",
       "index                                          \n",
       "14204            1           0              0  \n",
       "4086             0           0              1  \n",
       "9971             0           0              1  \n",
       "14602            0           1              0  \n",
       "5374             0           1              0  "
      ]
     },
     "execution_count": 126,
     "metadata": {},
     "output_type": "execute_result"
    }
   ],
   "source": [
    "# 訓練データ・テストデータの分割\n",
    "X_train, X_test, y_train, y_test = train_test_split(\n",
    "    X, y, test_size=0.20, random_state=123, stratify=y)\n",
    "\n",
    "X_train.head()"
   ]
  },
  {
   "cell_type": "markdown",
   "metadata": {},
   "source": [
    "## パイプラインの構築"
   ]
  },
  {
   "cell_type": "code",
   "execution_count": 13,
   "metadata": {
    "ExecuteTime": {
     "end_time": "2018-04-26T16:35:14.264913Z",
     "start_time": "2018-04-26T16:35:14.260757Z"
    }
   },
   "outputs": [
    {
     "name": "stdout",
     "output_type": "stream",
     "text": [
      "## 使用する学習器\n",
      "RandomForest,GradientBoosting,XGBoost,LightGBM\n"
     ]
    }
   ],
   "source": [
    "# 標準化も指定しておく\n",
    "pipe_rfc = Pipeline([('scl', StandardScaler()),\n",
    "                     ('est', RandomForestClassifier(random_state=1))])\n",
    "pipe_gbc = Pipeline([('scl', StandardScaler()),\n",
    "                     ('est', GradientBoostingClassifier(random_state=1))])\n",
    "pipe_xgb = Pipeline([('scl', StandardScaler()), ('est', xgb.XGBClassifier())])\n",
    "pipe_lgb = Pipeline([('scl', StandardScaler()), ('est', lgb.LGBMClassifier())])\n",
    "# pipe_mlp = Pipeline([('scl',StandardScaler()),('est',MLPClassifier(hidden_layer_sizes=(5,2), max_iter=500, random_state=1))]) # hidden_layer_sizes を変更して、評価値の変化を見る\n",
    "# パラメータいろいろ\n",
    "\n",
    "# 使用する学習器の名前\n",
    "pipe_names = ['RandomForest', 'GradientBoosting', 'XGBoost', 'LightGBM']\n",
    "pipe_lines = [pipe_rfc, pipe_gbc, pipe_xgb, pipe_lgb]\n",
    "print('## 使用する学習器\\n' + ','.join(pipe_names))"
   ]
  },
  {
   "cell_type": "markdown",
   "metadata": {},
   "source": [
    "## ハイパーパラメータの設定"
   ]
  },
  {
   "cell_type": "code",
   "execution_count": 14,
   "metadata": {
    "ExecuteTime": {
     "end_time": "2018-04-26T16:35:14.281538Z",
     "start_time": "2018-04-26T16:35:14.266722Z"
    },
    "run_control": {
     "marked": true
    }
   },
   "outputs": [],
   "source": [
    "# パラメータグリッドの設定\n",
    "#param_grid_logistic = {'est__C':[0.1,1.0,10.0,100.0], 'est__penalty':['l1','l2']}\n",
    "param_rand_rfc = {\n",
    "    'est__n_estimators': [1000],\n",
    "    'est__criterion': ['gini', 'entropy'],\n",
    "    'est__min_samples_leaf': sp.stats.randint(10, 15),\n",
    "    'est__min_samples_split': sp.stats.randint(2, 10),\n",
    "    'est__max_depth': sp.stats.randint(2, 5),\n",
    "    'est__random_state': [1]\n",
    "}\n",
    "param_rand_gbc = {\n",
    "    'est__n_estimators': [50, 100],\n",
    "    'est__min_samples_leaf': sp.stats.randint(10, 15),\n",
    "    'est__min_samples_split': sp.stats.randint(2, 10),\n",
    "    'est__subsample': [0.8, 1.0]\n",
    "}\n",
    "param_rand_xgb = {\n",
    "    'est__silent': [False],\n",
    "    'est__max_depth': [6, 10, 15, 20],\n",
    "    'est__learning_rate': [0.001, 0.01, 0.1, 0.2, 0, 3],\n",
    "    'est__subsample': [0.5, 0.6, 0.7, 0.8, 0.9, 1.0],\n",
    "    'est__colsample_bytree': [0.4, 0.5, 0.6, 0.7, 0.8, 0.9, 1.0],\n",
    "    'est__colsample_bylevel': [0.4, 0.5, 0.6, 0.7, 0.8, 0.9, 1.0],\n",
    "    'est__min_child_weight': [0.5, 1.0, 3.0, 5.0, 7.0, 10.0],\n",
    "    'est__gamma': [0, 0.25, 0.5, 1.0],\n",
    "    'est__reg_lambda': [0.1, 1.0, 5.0, 10.0, 50.0, 100.0],\n",
    "    'est__n_estimators': [100]\n",
    "}\n",
    "param_rand_lgb = {\n",
    "    'est__learning_rate': [0.01, 0.02],\n",
    "    'est__n_estimators': [300, 400, 600, 800, 1000],\n",
    "    # 'num_leaves':[4,8,16,32],\n",
    "    'est__max_depth': [2, 3, 4, 5, 6],\n",
    "    'est__boosting_type': ['gbdt'],\n",
    "    #'est__objective': ['lambdarank'],\n",
    "    'est__random_state': [1],\n",
    "    # feature_fraction -> colsample_bytree\n",
    "    # bagging_fraction -> subsample\n",
    "    # bagging_freq -> subsample_freq\n",
    "    'est__min_data_in_leaf': [10, 20],\n",
    "    'est__scoring': ['ndcg'],\n",
    "    # 'colsample_bytree' : [0.25,0.5,0.6,0.7,0.8],\n",
    "    # 'colsample_bytree' : [0.6,0.7,0.8,0.9],\n",
    "    'est__feature_fraction': [1, 0.9, 0.8, 0.4],\n",
    "    'est__subsample': [1, 0.9, 0.8, 0.5],\n",
    "    'est__max_bin': [50, 100, 200],\n",
    "    'est__is_unbalance': [True, False],\n",
    "\n",
    "    # 'min_child_weight':[5,10,25,50],\n",
    "    # 'n_jobs': [3]\n",
    "}"
   ]
  },
  {
   "cell_type": "markdown",
   "metadata": {},
   "source": [
    "## 学習モデルの構築とファイルへの保存"
   ]
  },
  {
   "cell_type": "code",
   "execution_count": 15,
   "metadata": {
    "ExecuteTime": {
     "end_time": "2018-04-26T16:41:16.598560Z",
     "start_time": "2018-04-26T16:35:14.282825Z"
    }
   },
   "outputs": [
    {
     "name": "stdout",
     "output_type": "stream",
     "text": [
      "----------------------------------------------------------------------------------------------\n",
      "探索空間:{'est__n_estimators': [1000], 'est__criterion': ['gini', 'entropy'], 'est__min_samples_leaf': <scipy.stats._distn_infrastructure.rv_frozen object at 0x7fec507147b8>, 'est__min_samples_split': <scipy.stats._distn_infrastructure.rv_frozen object at 0x7fec50714908>, 'est__max_depth': <scipy.stats._distn_infrastructure.rv_frozen object at 0x7fec50714a90>, 'est__random_state': [1]}\n",
      "Best Score 0.976674\n",
      "\n",
      "Best Model: Pipeline(memory=None,\n",
      "     steps=[('scl', StandardScaler(copy=True, with_mean=True, with_std=True)), ('est', RandomForestClassifier(bootstrap=True, class_weight=None, criterion='entropy',\n",
      "            max_depth=4, max_features='auto', max_leaf_nodes=None,\n",
      "            min_impurity_decrease=0.0, min_impurity_split=None,\n",
      "            min_samples_leaf=14, min_samples_split=8,\n",
      "            min_weight_fraction_leaf=0.0, n_estimators=1000, n_jobs=1,\n",
      "            oob_score=False, random_state=1, verbose=0, warm_start=False))])\n",
      "----------------------------------------------------------------------------------------------\n",
      "探索空間:{'est__n_estimators': [50, 100], 'est__min_samples_leaf': <scipy.stats._distn_infrastructure.rv_frozen object at 0x7fec50714780>, 'est__min_samples_split': <scipy.stats._distn_infrastructure.rv_frozen object at 0x7fec50714da0>, 'est__subsample': [0.8, 1.0]}\n",
      "Best Score 0.988656\n",
      "\n",
      "Best Model: Pipeline(memory=None,\n",
      "     steps=[('scl', StandardScaler(copy=True, with_mean=True, with_std=True)), ('est', GradientBoostingClassifier(criterion='friedman_mse', init=None,\n",
      "              learning_rate=0.1, loss='deviance', max_depth=3,\n",
      "              max_features=None, max_leaf_nodes=None,\n",
      "              min_impurity_decrease=0...         presort='auto', random_state=1, subsample=0.8, verbose=0,\n",
      "              warm_start=False))])\n",
      "----------------------------------------------------------------------------------------------\n",
      "探索空間:{'est__silent': [False], 'est__max_depth': [6, 10, 15, 20], 'est__learning_rate': [0.001, 0.01, 0.1, 0.2, 0, 3], 'est__subsample': [0.5, 0.6, 0.7, 0.8, 0.9, 1.0], 'est__colsample_bytree': [0.4, 0.5, 0.6, 0.7, 0.8, 0.9, 1.0], 'est__colsample_bylevel': [0.4, 0.5, 0.6, 0.7, 0.8, 0.9, 1.0], 'est__min_child_weight': [0.5, 1.0, 3.0, 5.0, 7.0, 10.0], 'est__gamma': [0, 0.25, 0.5, 1.0], 'est__reg_lambda': [0.1, 1.0, 5.0, 10.0, 50.0, 100.0], 'est__n_estimators': [100]}\n",
      "Best Score 0.988541\n",
      "\n",
      "Best Model: Pipeline(memory=None,\n",
      "     steps=[('scl', StandardScaler(copy=True, with_mean=True, with_std=True)), ('est', XGBClassifier(base_score=0.5, booster='gbtree', colsample_bylevel=0.6,\n",
      "       colsample_bytree=0.7, gamma=1.0, learning_rate=0.2,\n",
      "       max_delta_step=0, max_depth=20, min_child_weight=3.0, missing=None,\n",
      "       n_estimators=100, n_jobs=1, nthread=None,\n",
      "       objective='binary:logistic', random_state=0, reg_alpha=0,\n",
      "       reg_lambda=50.0, scale_pos_weight=1, seed=None, silent=False,\n",
      "       subsample=0.8))])\n",
      "----------------------------------------------------------------------------------------------\n",
      "探索空間:{'est__learning_rate': [0.01, 0.02], 'est__n_estimators': [300, 400, 600, 800, 1000], 'est__max_depth': [2, 3, 4, 5, 6], 'est__boosting_type': ['gbdt'], 'est__random_state': [1], 'est__min_data_in_leaf': [10, 20], 'est__scoring': ['ndcg'], 'est__feature_fraction': [1, 0.9, 0.8, 0.4], 'est__subsample': [1, 0.9, 0.8, 0.5], 'est__max_bin': [50, 100, 200], 'est__is_unbalance': [True, False]}\n",
      "Best Score 0.993131\n",
      "\n",
      "Best Model: Pipeline(memory=None,\n",
      "     steps=[('scl', StandardScaler(copy=True, with_mean=True, with_std=True)), ('est', LGBMClassifier(boosting_type='gbdt', class_weight=None, colsample_bytree=1.0,\n",
      "        feature_fraction=0.8, is_unbalance=True, learning_rate=0.01,\n",
      "        max_bin=100, max_depth=6, min_child_samples=20,\n",
      "        min_chi...ring='ndcg',\n",
      "        silent=True, subsample=1, subsample_for_bin=200000,\n",
      "        subsample_freq=1))])\n"
     ]
    }
   ],
   "source": [
    "# 学習\n",
    "params = [param_rand_rfc, param_rand_gbc, param_rand_xgb, param_rand_lgb]\n",
    "best_estimator = []\n",
    "for pipe, param in zip(pipe_lines, params):\n",
    "    print(\n",
    "        '----------------------------------------------------------------------------------------------'\n",
    "    )\n",
    "    print('探索空間:%s' % param)\n",
    "    rscv = RandomizedSearchCV(\n",
    "        estimator=pipe,\n",
    "        param_distributions=param,\n",
    "        cv=10,\n",
    "        n_iter=10,\n",
    "        scoring='roc_auc',\n",
    "        random_state=1,\n",
    "        n_jobs=2)\n",
    "    #gs = GridSearchCV(estimator=pipe, param_grid=param, scoring='f1', cv=3)\n",
    "    rs = rscv.fit(X, y.as_matrix().ravel())\n",
    "    # gs.best_estimator_でベストモデルを呼び出せる\n",
    "    best_estimator.append(rs.best_estimator_)\n",
    "    # gs.best_score_で上記ベストモデルのCV評価値（ここではf1スコア）を呼び出せる\n",
    "    print('Best Score %.6f\\n' % rs.best_score_)\n",
    "    print('Best Model: %s' % rs.best_estimator_)"
   ]
  },
  {
   "cell_type": "code",
   "execution_count": 106,
   "metadata": {
    "ExecuteTime": {
     "end_time": "2018-04-26T22:10:47.828051Z",
     "start_time": "2018-04-26T22:10:47.800709Z"
    }
   },
   "outputs": [],
   "source": [
    "%%bash\n",
    "# 前回出力されたファイルを削除\n",
    "mkdir -p ./model\n",
    "rm -f ./pkl/*"
   ]
  },
  {
   "cell_type": "code",
   "execution_count": 107,
   "metadata": {
    "ExecuteTime": {
     "end_time": "2018-04-26T22:10:49.559080Z",
     "start_time": "2018-04-26T22:10:48.990191Z"
    }
   },
   "outputs": [
    {
     "name": "stdout",
     "output_type": "stream",
     "text": [
      "\n",
      "## ファイルへ出力\n",
      "./model/RandomForest_model.pkl が保存されました。\n",
      "./model/GradientBoosting_model.pkl が保存されました。\n",
      "./model/XGBoost_model.pkl が保存されました。\n",
      "./model/LightGBM_model.pkl が保存されました。\n"
     ]
    }
   ],
   "source": [
    "pickle_name = 'model.pkl'  # 出力する学習モデルファイル名\n",
    "pickle_dir = './model/'\n",
    "\n",
    "best_ests = []\n",
    "print('\\n## ファイルへ出力')\n",
    "# 学習とファイル保存\n",
    "for i, est in enumerate(best_estimator):\n",
    "    # 学習モデルをファイルに保存する\n",
    "    filename = pickle_dir + pipe_names[i] + '_' + pickle_name\n",
    "    joblib.dump(est, filename)\n",
    "    print(filename + ' が保存されました。')"
   ]
  },
  {
   "cell_type": "code",
   "execution_count": 108,
   "metadata": {
    "ExecuteTime": {
     "end_time": "2018-04-26T22:11:05.347223Z",
     "start_time": "2018-04-26T22:11:05.327609Z"
    }
   },
   "outputs": [
    {
     "name": "stdout",
     "output_type": "stream",
     "text": [
      "GradientBoosting_model.pkl\n",
      "LightGBM_model.pkl\n",
      "RandomForest_model.pkl\n",
      "XGBoost_model.pkl\n"
     ]
    }
   ],
   "source": [
    "%%bash\n",
    "ls ./model"
   ]
  },
  {
   "cell_type": "markdown",
   "metadata": {},
   "source": [
    "## 評価スコアの出力"
   ]
  },
  {
   "cell_type": "code",
   "execution_count": 128,
   "metadata": {
    "ExecuteTime": {
     "end_time": "2018-04-26T22:42:16.048786Z",
     "start_time": "2018-04-26T22:42:14.705072Z"
    }
   },
   "outputs": [
    {
     "name": "stdout",
     "output_type": "stream",
     "text": [
      "## 使用する評価スコア\n",
      "正解率,適合率,再現率,F1スコア,AUC\n"
     ]
    },
    {
     "name": "stderr",
     "output_type": "stream",
     "text": [
      "/home/yusukefulltype/anaconda3/lib/python3.6/site-packages/sklearn/preprocessing/label.py:151: DeprecationWarning: The truth value of an empty array is ambiguous. Returning False, but in future this will result in an error. Use `array.size > 0` to check that an array is not empty.\n",
      "  if diff:\n",
      "/home/yusukefulltype/anaconda3/lib/python3.6/site-packages/sklearn/preprocessing/label.py:151: DeprecationWarning: The truth value of an empty array is ambiguous. Returning False, but in future this will result in an error. Use `array.size > 0` to check that an array is not empty.\n",
      "  if diff:\n",
      "/home/yusukefulltype/anaconda3/lib/python3.6/site-packages/sklearn/preprocessing/label.py:151: DeprecationWarning: The truth value of an empty array is ambiguous. Returning False, but in future this will result in an error. Use `array.size > 0` to check that an array is not empty.\n",
      "  if diff:\n",
      "/home/yusukefulltype/anaconda3/lib/python3.6/site-packages/sklearn/preprocessing/label.py:151: DeprecationWarning: The truth value of an empty array is ambiguous. Returning False, but in future this will result in an error. Use `array.size > 0` to check that an array is not empty.\n",
      "  if diff:\n",
      "/home/yusukefulltype/anaconda3/lib/python3.6/site-packages/sklearn/preprocessing/label.py:151: DeprecationWarning: The truth value of an empty array is ambiguous. Returning False, but in future this will result in an error. Use `array.size > 0` to check that an array is not empty.\n",
      "  if diff:\n",
      "/home/yusukefulltype/anaconda3/lib/python3.6/site-packages/sklearn/preprocessing/label.py:151: DeprecationWarning: The truth value of an empty array is ambiguous. Returning False, but in future this will result in an error. Use `array.size > 0` to check that an array is not empty.\n",
      "  if diff:\n",
      "/home/yusukefulltype/anaconda3/lib/python3.6/site-packages/sklearn/preprocessing/label.py:151: DeprecationWarning: The truth value of an empty array is ambiguous. Returning False, but in future this will result in an error. Use `array.size > 0` to check that an array is not empty.\n",
      "  if diff:\n",
      "/home/yusukefulltype/anaconda3/lib/python3.6/site-packages/sklearn/preprocessing/label.py:151: DeprecationWarning: The truth value of an empty array is ambiguous. Returning False, but in future this will result in an error. Use `array.size > 0` to check that an array is not empty.\n",
      "  if diff:\n",
      "/home/yusukefulltype/anaconda3/lib/python3.6/site-packages/sklearn/preprocessing/label.py:151: DeprecationWarning: The truth value of an empty array is ambiguous. Returning False, but in future this will result in an error. Use `array.size > 0` to check that an array is not empty.\n",
      "  if diff:\n",
      "/home/yusukefulltype/anaconda3/lib/python3.6/site-packages/sklearn/preprocessing/label.py:151: DeprecationWarning: The truth value of an empty array is ambiguous. Returning False, but in future this will result in an error. Use `array.size > 0` to check that an array is not empty.\n",
      "  if diff:\n"
     ]
    }
   ],
   "source": [
    "# スコアとして使用する値\n",
    "columns = ['正解率', '適合率', '再現率', 'F1スコア', 'AUC']\n",
    "print('## 使用する評価スコア\\n' + ','.join(columns))\n",
    "df = pd.DataFrame(columns=columns)\n",
    "\n",
    "# 学習モデルごとにスコアの算出\n",
    "for (i, pipe) in enumerate(best_estimator):\n",
    "    # それぞれの評価スコアの算出\n",
    "    #print('%s: %.3f'%(pipe_names[i], accuracy_score(y_test.as_matrix().ravel(), pipe.predict(X_test))))\n",
    "    acc = accuracy_score(y_test.as_matrix().ravel(), pipe.predict(X_test))\n",
    "    #print('%s: %.3f'%(pipe_names[i], precision_score(y_test.as_matrix().ravel(), pipe.predict(X_test))))\n",
    "    pre = precision_score(y_test.as_matrix().ravel(), pipe.predict(X_test))\n",
    "    #print('%s: %.3f'%(pipe_names[i], recall_score(y_test.as_matrix().ravel(), pipe.predict(X_test))))\n",
    "    rec = recall_score(y_test.as_matrix().ravel(), pipe.predict(X_test))\n",
    "    #print('%s: %.3f'%(pipe_names[i], f1_score(y_test.as_matrix().ravel(), pipe.predict(X_test))))\n",
    "    f1 = f1_score(y_test.as_matrix().ravel(), pipe.predict(X_test))\n",
    "    #print('%s: %.3f'%(pipe_names[i], roc_auc_score(y_test.as_matrix().ravel(), pipe.predict(X_test))))\n",
    "    auc = roc_auc_score(y_test.as_matrix().ravel(), pipe.predict(X_test))\n",
    "\n",
    "    # DataFrameへ行の追加（評価スコアを渡す）\n",
    "    df.loc[pipe_names[i]] = [acc, pre, rec, f1, auc]"
   ]
  },
  {
   "cell_type": "code",
   "execution_count": 129,
   "metadata": {
    "ExecuteTime": {
     "end_time": "2018-04-26T22:42:17.112811Z",
     "start_time": "2018-04-26T22:42:17.088821Z"
    }
   },
   "outputs": [
    {
     "data": {
      "text/html": [
       "<div>\n",
       "<style scoped>\n",
       "    .dataframe tbody tr th:only-of-type {\n",
       "        vertical-align: middle;\n",
       "    }\n",
       "\n",
       "    .dataframe tbody tr th {\n",
       "        vertical-align: top;\n",
       "    }\n",
       "\n",
       "    .dataframe thead th {\n",
       "        text-align: right;\n",
       "    }\n",
       "</style>\n",
       "<table border=\"1\" class=\"dataframe\">\n",
       "  <thead>\n",
       "    <tr style=\"text-align: right;\">\n",
       "      <th></th>\n",
       "      <th>正解率</th>\n",
       "      <th>適合率</th>\n",
       "      <th>再現率</th>\n",
       "      <th>F1スコア</th>\n",
       "      <th>AUC</th>\n",
       "    </tr>\n",
       "  </thead>\n",
       "  <tbody>\n",
       "    <tr>\n",
       "      <th>RandomForest</th>\n",
       "      <td>0.911429</td>\n",
       "      <td>0.976261</td>\n",
       "      <td>0.648915</td>\n",
       "      <td>0.779621</td>\n",
       "      <td>0.821947</td>\n",
       "    </tr>\n",
       "    <tr>\n",
       "      <th>GradientBoosting</th>\n",
       "      <td>0.962857</td>\n",
       "      <td>0.953488</td>\n",
       "      <td>0.889546</td>\n",
       "      <td>0.920408</td>\n",
       "      <td>0.937868</td>\n",
       "    </tr>\n",
       "    <tr>\n",
       "      <th>XGBoost</th>\n",
       "      <td>0.964762</td>\n",
       "      <td>0.971678</td>\n",
       "      <td>0.879684</td>\n",
       "      <td>0.923395</td>\n",
       "      <td>0.935762</td>\n",
       "    </tr>\n",
       "    <tr>\n",
       "      <th>LightGBM</th>\n",
       "      <td>0.971429</td>\n",
       "      <td>0.951515</td>\n",
       "      <td>0.928994</td>\n",
       "      <td>0.940120</td>\n",
       "      <td>0.956964</td>\n",
       "    </tr>\n",
       "  </tbody>\n",
       "</table>\n",
       "</div>"
      ],
      "text/plain": [
       "                       正解率       適合率       再現率     F1スコア       AUC\n",
       "RandomForest      0.911429  0.976261  0.648915  0.779621  0.821947\n",
       "GradientBoosting  0.962857  0.953488  0.889546  0.920408  0.937868\n",
       "XGBoost           0.964762  0.971678  0.879684  0.923395  0.935762\n",
       "LightGBM          0.971429  0.951515  0.928994  0.940120  0.956964"
      ]
     },
     "metadata": {},
     "output_type": "display_data"
    }
   ],
   "source": [
    "display(df) # とりあえず一回出しとく"
   ]
  },
  {
   "cell_type": "markdown",
   "metadata": {},
   "source": [
    "## ファイル読み込みと確率の出力"
   ]
  },
  {
   "cell_type": "code",
   "execution_count": 131,
   "metadata": {
    "ExecuteTime": {
     "end_time": "2018-04-26T22:43:09.926702Z",
     "start_time": "2018-04-26T22:43:09.631438Z"
    },
    "scrolled": true
   },
   "outputs": [
    {
     "name": "stdout",
     "output_type": "stream",
     "text": [
      "■選択されたメトリクスのスコア順(降順)で表示→ベストモデルで予測→CSVで出力\n"
     ]
    },
    {
     "data": {
      "application/vnd.jupyter.widget-view+json": {
       "model_id": "c8a3fbb1fbad4f8a825afcd8b2267b18",
       "version_major": 2,
       "version_minor": 0
      },
      "text/plain": [
       "interactive(children=(Dropdown(description='Metrics', options=('正解率', '適合率', '再現率', 'F1スコア', 'AUC'), value='正解…"
      ]
     },
     "metadata": {},
     "output_type": "display_data"
    }
   ],
   "source": [
    "# スコアをテーブルに出力(プルダウンで選択されたものを出力)\n",
    "print('■選択されたメトリクスのスコア順(降順)で表示→ベストモデルで予測→CSVで出力')\n",
    "\n",
    "\n",
    "@interact(Metrics=columns)\n",
    "def draw_table(Metrics):\n",
    "    df2 = df.sort_values(\n",
    "        by=Metrics, ascending=False).loc[:, [Metrics]]  # ソートした列だけ抽出\n",
    "    df2 = df2.rename(columns={Metrics: 'スコア'})\n",
    "    display(df2)\n",
    "    best_model_name = df2.iloc[0].name\n",
    "    print('best score : ' + best_model_name)\n",
    "    model_name = pickle_dir + best_model_name + '_' + pickle_name\n",
    "    clf = joblib.load(model_name)\n",
    "    print(model_name + ' が読み込まれました。')\n",
    "    # 予測\n",
    "    predict = clf.predict_proba(X_proba)\n",
    "    # 予測値に元のindex付与して、dataframe化\n",
    "    df_predict = pd.DataFrame(\n",
    "        predict, columns=['proba_0', 'proba_1'], index=X_proba.index)\n",
    "    # output csv\n",
    "    csv_name = './' + best_model_name + '_proba_score.csv'\n",
    "    df_predict.proba_1.to_csv(csv_name, index=True,header=True)\n",
    "    print(csv_name + ' が出力されました。')"
   ]
  },
  {
   "cell_type": "markdown",
   "metadata": {},
   "source": [
    "# N:結論・提案\n",
    "***"
   ]
  },
  {
   "cell_type": "markdown",
   "metadata": {},
   "source": [
    "<img src=\"https://4.bp.blogspot.com/-EjZ4ENmfIkc/V9PE9nu6eKI/AAAAAAAA9ko/I1hPkXoivi4WWdibdh2JQw1kgeVXwu0AgCLcB/s800/kjhou_seifuku.png\" alt=\"機械学習のイラスト\" width=\"30%\" height=\"30%\">"
   ]
  },
  {
   "cell_type": "markdown",
   "metadata": {},
   "source": [
    "+ ここで力尽きた…  \n",
    "\n",
    "本来は\"E\"のデータ調査の部分で、個々の特徴量を細かく分析しておく必要がある。  \n",
    "\n",
    "今回はスコアのみで評価のため、深く掘り下げていないが、ビジネスでは「何が特徴量として結果に効いているのか？」を顧客は知りたがっている。  \n",
    "そこを含めて、分析・予測結果から何ができるのかをプレゼンするまでが、お仕事。  \n",
    "「いい予測結果がでました」だけでは弱い。  "
   ]
  }
 ],
 "metadata": {
  "kernelspec": {
   "display_name": "Python 3",
   "language": "python",
   "name": "python3"
  },
  "language_info": {
   "codemirror_mode": {
    "name": "ipython",
    "version": 3
   },
   "file_extension": ".py",
   "mimetype": "text/x-python",
   "name": "python",
   "nbconvert_exporter": "python",
   "pygments_lexer": "ipython3",
   "version": "3.6.5"
  },
  "toc": {
   "nav_menu": {},
   "number_sections": true,
   "sideBar": true,
   "skip_h1_title": false,
   "toc_cell": false,
   "toc_position": {},
   "toc_section_display": "block",
   "toc_window_display": true
  },
  "varInspector": {
   "cols": {
    "lenName": 16,
    "lenType": 16,
    "lenVar": 40
   },
   "kernels_config": {
    "python": {
     "delete_cmd_postfix": "",
     "delete_cmd_prefix": "del ",
     "library": "var_list.py",
     "varRefreshCmd": "print(var_dic_list())"
    },
    "r": {
     "delete_cmd_postfix": ") ",
     "delete_cmd_prefix": "rm(",
     "library": "var_list.r",
     "varRefreshCmd": "cat(var_dic_list()) "
    }
   },
   "types_to_exclude": [
    "module",
    "function",
    "builtin_function_or_method",
    "instance",
    "_Feature"
   ],
   "window_display": false
  }
 },
 "nbformat": 4,
 "nbformat_minor": 2
}
